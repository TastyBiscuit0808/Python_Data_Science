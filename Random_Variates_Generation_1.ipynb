{
 "cells": [
  {
   "cell_type": "markdown",
   "metadata": {
    "id": "U3Bc7wrNE_iF"
   },
   "source": [
    "## Generation of Random Numbers"
   ]
  },
  {
   "cell_type": "code",
   "execution_count": 1,
   "metadata": {
    "executionInfo": {
     "elapsed": 729,
     "status": "ok",
     "timestamp": 1664289747186,
     "user": {
      "displayName": "Serena Gomez",
      "userId": "05959088368982916741"
     },
     "user_tz": -330
    },
    "id": "N2gj_iiMEPKy"
   },
   "outputs": [],
   "source": [
    "import random\n",
    "import math\n",
    "import matplotlib.pyplot as plt"
   ]
  },
  {
   "cell_type": "code",
   "execution_count": 2,
   "metadata": {
    "colab": {
     "base_uri": "https://localhost:8080/"
    },
    "executionInfo": {
     "elapsed": 10,
     "status": "ok",
     "timestamp": 1664284768646,
     "user": {
      "displayName": "Serena Gomez",
      "userId": "05959088368982916741"
     },
     "user_tz": -330
    },
    "id": "KGCpjXkqGTsq",
    "outputId": "c96fca11-51e4-480d-ac7b-1c69bf11ca4d"
   },
   "outputs": [
    {
     "data": {
      "text/plain": [
       "0.21354490034855245"
      ]
     },
     "execution_count": 2,
     "metadata": {},
     "output_type": "execute_result"
    }
   ],
   "source": [
    "# function random(), which generates a random float number between 0.0 and 1.0.\n",
    "random.random()"
   ]
  },
  {
   "cell_type": "code",
   "execution_count": 3,
   "metadata": {
    "colab": {
     "base_uri": "https://localhost:8080/"
    },
    "executionInfo": {
     "elapsed": 541,
     "status": "ok",
     "timestamp": 1664285060498,
     "user": {
      "displayName": "Serena Gomez",
      "userId": "05959088368982916741"
     },
     "user_tz": -330
    },
    "id": "eqG_HmzrGjM3",
    "outputId": "e4e710a3-51fb-4c91-f8bf-0f40ba5be964"
   },
   "outputs": [
    {
     "data": {
      "text/plain": [
       "3"
      ]
     },
     "execution_count": 3,
     "metadata": {},
     "output_type": "execute_result"
    }
   ],
   "source": [
    "# choice() is an inbuilt function in the Python programming language that returns a random item from a list, tuple, or string.\n",
    "list1 = [1, 2, 3, 4, 5, 6]\n",
    "random.choice(list1)"
   ]
  },
  {
   "cell_type": "code",
   "execution_count": 4,
   "metadata": {
    "colab": {
     "base_uri": "https://localhost:8080/"
    },
    "executionInfo": {
     "elapsed": 6,
     "status": "ok",
     "timestamp": 1664285063240,
     "user": {
      "displayName": "Serena Gomez",
      "userId": "05959088368982916741"
     },
     "user_tz": -330
    },
    "id": "cDJpOwoZG0n-",
    "outputId": "bbf24be4-e194-4d21-a2cc-d04446228e73"
   },
   "outputs": [
    {
     "data": {
      "text/plain": [
       "507"
      ]
     },
     "execution_count": 4,
     "metadata": {},
     "output_type": "execute_result"
    }
   ],
   "source": [
    "# generate a random integer between 1 and 1000.\n",
    "random.randint(1, 1000)"
   ]
  },
  {
   "cell_type": "markdown",
   "metadata": {
    "id": "JgmNwReOHSq-"
   },
   "source": [
    "### Use of seed\n",
    "\n",
    "Computer-based random generators use random number seeds for setting the starting point of the random number sequence."
   ]
  },
  {
   "cell_type": "code",
   "execution_count": 5,
   "metadata": {
    "colab": {
     "base_uri": "https://localhost:8080/"
    },
    "executionInfo": {
     "elapsed": 1033,
     "status": "ok",
     "timestamp": 1664285072459,
     "user": {
      "displayName": "Serena Gomez",
      "userId": "05959088368982916741"
     },
     "user_tz": -330
    },
    "id": "L-lxXGXkHSS2",
    "outputId": "975d1a76-0678-4919-d555-101568031337"
   },
   "outputs": [
    {
     "name": "stdout",
     "output_type": "stream",
     "text": [
      "Random number with seed 3: 244\n",
      "Random number with seed 3: 244\n",
      "Random number without seed: 607\n"
     ]
    }
   ],
   "source": [
    "random.seed(3)\n",
    " \n",
    "# print a random number between 1 and 1000.\n",
    "print('Random number with seed 3:', random.randint(1, 1000))\n",
    " \n",
    "# if you want to get the same random number again then,\n",
    "random.seed(3)\n",
    "print('Random number with seed 3:', random.randint(1, 1000))\n",
    " \n",
    "# If seed function is not used\n",
    " \n",
    "# Gives totally unpredictable responses.\n",
    "print('Random number without seed:', random.randint(1, 1000))"
   ]
  },
  {
   "cell_type": "markdown",
   "metadata": {
    "id": "KHjcCMU8II6l"
   },
   "source": [
    "## Acceptance-Rejection Method for Generating Random Variates\n",
    "\n",
    "There are several ways of generating random samples from a Poisson distribution, and the method we will use is a variation of the Acceptance-Rejection method. "
   ]
  },
  {
   "cell_type": "code",
   "execution_count": 6,
   "metadata": {
    "executionInfo": {
     "elapsed": 543,
     "status": "ok",
     "timestamp": 1664289713077,
     "user": {
      "displayName": "Serena Gomez",
      "userId": "05959088368982916741"
     },
     "user_tz": -330
    },
    "id": "mxbQr-dtHO7B"
   },
   "outputs": [],
   "source": [
    "# function to generate poisson random variables with arrival rate(lambda)\n",
    "def acceptance_rejection_poisson(alpha = 3):\n",
    "    \"\"\"\n",
    "    Generates a variate of the Poisson distribution with rate parameter lambda using Knuth's Algorithm\n",
    "    \"\"\"\n",
    "    p = 1\n",
    "    n = -1\n",
    "    a = math.exp(-alpha)\n",
    " \n",
    "    while True: \n",
    "        n = n + 1\n",
    "        R = random.random()\n",
    "        p = p*R\n",
    "        if a > p:\n",
    "            break\n",
    "    return n"
   ]
  },
  {
   "cell_type": "code",
   "execution_count": 7,
   "metadata": {
    "colab": {
     "base_uri": "https://localhost:8080/",
     "height": 281
    },
    "executionInfo": {
     "elapsed": 956,
     "status": "ok",
     "timestamp": 1664289787253,
     "user": {
      "displayName": "Serena Gomez",
      "userId": "05959088368982916741"
     },
     "user_tz": -330
    },
    "id": "j_7pqpAPZaWM",
    "outputId": "82939526-f966-4330-96c2-29e439c266dd"
   },
   "outputs": [
    {
     "data": {
      "image/png": "[encoded data removed]",
      "text/plain": [
       "<Figure size 432x288 with 1 Axes>"
      ]
     },
     "metadata": {
      "needs_background": "light"
     },
     "output_type": "display_data"
    }
   ],
   "source": [
    "# take some samples and plot them\n",
    "sample_size = 10000\n",
    "alpha = 2\n",
    "Y = []\n",
    "for i in range(sample_size):\n",
    "    Y.append(acceptance_rejection_poisson(alpha))\n",
    "\n",
    "plt.hist(Y, bins=50, ec='black', density = True)\n",
    "plt.title(\"Generated Poisson Random Variates\")\n",
    "plt.show()"
   ]
  },
  {
   "cell_type": "code",
   "execution_count": null,
   "metadata": {
    "id": "nzUL4rVoZj92"
   },
   "outputs": [],
   "source": []
  }
 ],
 "metadata": {
  "colab": {
   "authorship_tag": "ABX9TyOBNStfj/qY9zhcpNVOq9eK",
   "provenance": []
  },
  "kernelspec": {
   "display_name": "Python 3.10.1 64-bit",
   "language": "python",
   "name": "python3"
  },
  "language_info": {
   "codemirror_mode": {
    "name": "ipython",
    "version": 3
   },
   "file_extension": ".py",
   "mimetype": "text/x-python",
   "name": "python",
   "nbconvert_exporter": "python",
   "pygments_lexer": "ipython3",
   "version": "3.10.1"
  },
  "vscode": {
   "interpreter": {
    "hash": "8d06cd6774baaa11905c4a99b882337c49ca6ec25cdada05ce595be4d66e81c2"
   }
  }
 },
 "nbformat": 4,
 "nbformat_minor": 1
}
